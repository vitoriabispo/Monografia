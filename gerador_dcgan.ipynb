{
  "cells": [
    {
      "cell_type": "markdown",
      "source": [
        "Implementação realizada por **Vitória Maria Silva Bispo** durante as disciplinas Mografia I e II no trabalho intitulado: **\"Geração de Imagens Citológicas Sintéticas Através de Redes Generativas Adversárias\"**.\n",
        "\n",
        "O seguinte **guia de implementação** contempla a arquitetura do gerador utilizado: https://pytorch.org/tutorials/beginner/dcgan_faces_tutorial.html"
      ],
      "metadata": {
        "id": "yKrreyxeebc3"
      }
    },
    {
      "cell_type": "markdown",
      "metadata": {
        "id": "WyKFGWOA-D6P"
      },
      "source": [
        "## Imports necessários"
      ]
    },
    {
      "cell_type": "code",
      "execution_count": null,
      "metadata": {
        "id": "OgUHQyg443xO"
      },
      "outputs": [],
      "source": [
        "import torch\n",
        "import matplotlib.pyplot as plt\n",
        "import torchvision.transforms as transforms\n",
        "\n",
        "from PIL import Image\n",
        "\n",
        "from datetime import datetime\n",
        "import os"
      ]
    },
    {
      "cell_type": "code",
      "execution_count": null,
      "metadata": {
        "colab": {
          "base_uri": "https://localhost:8080/"
        },
        "id": "6QyCT1Dlz2jl",
        "outputId": "5b3177c2-e331-4b35-b858-0c38ee7bf5b7"
      },
      "outputs": [
        {
          "output_type": "stream",
          "name": "stdout",
          "text": [
            "Mounted at /content/drive\n"
          ]
        }
      ],
      "source": [
        "from google.colab import drive\n",
        "drive.mount('/content/drive')"
      ]
    },
    {
      "cell_type": "markdown",
      "metadata": {
        "id": "GVmp-yDQ-H3y"
      },
      "source": [
        "## Carregando o modelo do gerador"
      ]
    },
    {
      "cell_type": "code",
      "execution_count": null,
      "metadata": {
        "id": "P5qCGmx35CbH"
      },
      "outputs": [],
      "source": [
        "# Caminho para o modelo do Gerador\n",
        "modeloGerador = '/content/drive/MyDrive/UFOP/23.2/Monografia/generator/modeloGerador.py'\n",
        "\n",
        "# Carrega o gerador do arquivo\n",
        "exec(open(modeloGerador).read())\n",
        "\n",
        "# Cria uma instância do gerador\n",
        "ngpu = 1\n",
        "nz = 256\n",
        "ngf = 64\n",
        "nc = 3\n",
        "generator = Generator(ngpu, nz, ngf, nc)"
      ]
    },
    {
      "cell_type": "markdown",
      "metadata": {
        "id": "8--glnsD-NUg"
      },
      "source": [
        "## Carregando os pesos salvos do gerador"
      ]
    },
    {
      "cell_type": "code",
      "execution_count": null,
      "metadata": {
        "colab": {
          "base_uri": "https://localhost:8080/"
        },
        "id": "oulaahYO6eAY",
        "outputId": "ba84ee36-7ed7-4424-f711-2afb33e5db82"
      },
      "outputs": [
        {
          "output_type": "execute_result",
          "data": {
            "text/plain": [
              "<All keys matched successfully>"
            ]
          },
          "metadata": {},
          "execution_count": 4
        }
      ],
      "source": [
        "# Caminho para os pesos do gerador HGL\n",
        "#pesosGerador = '/content/drive/MyDrive/UFOP/23.2/Monografia/generator/generator_ckpt/HGL/generator_checkpoint_400.pt'\n",
        "\n",
        "# Caminho para os pesos do gerador LGL\n",
        "#pesosGerador = '/content/drive/MyDrive/UFOP/23.2/Monografia/generator/generator_ckpt/LGL/generator_checkpoint_400.pt'\n",
        "\n",
        "# Caminho para os pesos do gerador NL\n",
        "pesosGerador = '/content/drive/MyDrive/UFOP/23.2/Monografia/generator/generator_ckpt/NL/generator_checkpoint_400.pt'\n",
        "\n",
        "# Carrega os pesos do gerador\n",
        "checkpoint = torch.load(pesosGerador, map_location=torch.device('cpu'))\n",
        "generator.load_state_dict(checkpoint['model_state_dict'])"
      ]
    },
    {
      "cell_type": "markdown",
      "metadata": {
        "id": "Cwykvx0r-S9n"
      },
      "source": [
        "## Gerando imagens através do gerador"
      ]
    },
    {
      "cell_type": "code",
      "execution_count": null,
      "metadata": {
        "id": "uMjW6wap-Vwu"
      },
      "outputs": [],
      "source": [
        "num_imagens = 5000\n",
        "\n",
        "# Gera uma semente aleatória\n",
        "semente = torch.randn(num_imagens, nz, 1, 1)\n",
        "\n",
        "generator.eval()\n",
        "\n",
        "# Utilizando o gerador para gerar imagens\n",
        "imagens_geradas = generator(semente)"
      ]
    },
    {
      "cell_type": "markdown",
      "metadata": {
        "id": "M7CRY6rF-WcF"
      },
      "source": [
        "## Exibindo as imagens"
      ]
    },
    {
      "cell_type": "code",
      "execution_count": null,
      "metadata": {
        "id": "BvFMGICgqgXN"
      },
      "outputs": [],
      "source": [
        "# Reescala as imagens de volta para o intervalo [0, 1]\n",
        "imagens_geradas_display = (imagens_geradas.squeeze().permute(0, 2, 3, 1) + 1) / 2.0\n",
        "\n",
        "# Plota as imagens geradas\n",
        "# fig, axs = plt.subplots(1, num_imagens, figsize=(15, 15))\n",
        "\n",
        "# for i in range(num_imagens):\n",
        "#    axs[i].imshow(imagens_geradas_display[i].cpu().detach().numpy())\n",
        "\n",
        "# plt.show()"
      ]
    },
    {
      "cell_type": "markdown",
      "metadata": {
        "id": "zj0FwNCE-nNF"
      },
      "source": [
        "## Salvando as imagens"
      ]
    },
    {
      "cell_type": "code",
      "execution_count": null,
      "metadata": {
        "id": "u3f6MqzS-oSG"
      },
      "outputs": [],
      "source": [
        "# Obtém a data e hora atual\n",
        "current_datetime = datetime.now().strftime(\"%Y%m%d_%H%M%S\")\n",
        "\n",
        "# Define o caminho da pasta para salvar as imagens\n",
        "#pasta_salvar = f'/content/drive/MyDrive/UFOP/23.2/Monografia/Resultados/HGL/HGL/'\n",
        "#pasta_salvar = f'/content/drive/MyDrive/UFOP/23.2/Monografia/Resultados/LGL/LGL/'\n",
        "pasta_salvar = f'/content/drive/MyDrive/UFOP/23.2/Monografia/Resultados/NL/NL/'\n",
        "os.makedirs(pasta_salvar, exist_ok=True)"
      ]
    },
    {
      "cell_type": "code",
      "execution_count": null,
      "metadata": {
        "id": "QZBoNtjEH2d5"
      },
      "outputs": [],
      "source": [
        "# Salva as imagens na pasta\n",
        "for i in range(num_imagens):\n",
        "    nome_arquivo = f'imagem_{i + 1}.png'  # ou outro formato desejado\n",
        "    caminho_arquivo = os.path.join(pasta_salvar, nome_arquivo)\n",
        "\n",
        "    # Transforma a imagem para o formato certo, se necessário\n",
        "    imagem_para_salvar = (imagens_geradas_display[i].squeeze().permute(0, 1, 2).cpu().detach().numpy() * 255).astype('uint8')\n",
        "\n",
        "    # Converte para o formato PIL\n",
        "    imagem_pil = Image.fromarray(imagem_para_salvar)\n",
        "\n",
        "    # Salva a imagem no caminho especificado\n",
        "    imagem_pil.save(caminho_arquivo)\n"
      ]
    },
    {
      "cell_type": "code",
      "execution_count": null,
      "metadata": {
        "id": "4Nk2Vl5Buh7B",
        "colab": {
          "base_uri": "https://localhost:8080/"
        },
        "outputId": "02a6b601-289b-4714-d703-112f35f9b7d6"
      },
      "outputs": [
        {
          "output_type": "stream",
          "name": "stdout",
          "text": [
            "Total de 5000 imagens foram salvas na pasta /content/drive/MyDrive/UFOP/23.2/Monografia/Resultados/NL/NL/.\n"
          ]
        }
      ],
      "source": [
        "total_imagens_salvas = len(os.listdir(pasta_salvar))\n",
        "print(f'Total de {total_imagens_salvas} imagens foram salvas na pasta {pasta_salvar}.')"
      ]
    }
  ],
  "metadata": {
    "colab": {
      "machine_shape": "hm",
      "provenance": [],
      "collapsed_sections": [
        "WyKFGWOA-D6P",
        "GVmp-yDQ-H3y",
        "Cwykvx0r-S9n",
        "M7CRY6rF-WcF"
      ]
    },
    "kernelspec": {
      "display_name": "Python 3",
      "name": "python3"
    },
    "language_info": {
      "name": "python"
    }
  },
  "nbformat": 4,
  "nbformat_minor": 0
}